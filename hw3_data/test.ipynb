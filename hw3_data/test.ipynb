{
 "cells": [
  {
   "cell_type": "code",
   "execution_count": 26,
   "metadata": {},
   "outputs": [
    {
     "name": "stdout",
     "output_type": "stream",
     "text": [
      "0\n",
      "tensor(939.3317, grad_fn=<AddBackward0>)\n",
      "1\n",
      "tensor(321.6891, grad_fn=<AddBackward0>)\n",
      "2\n",
      "tensor(243.9262, grad_fn=<AddBackward0>)\n",
      "3\n",
      "tensor(215.7514, grad_fn=<AddBackward0>)\n",
      "4\n",
      "tensor(199.4989, grad_fn=<AddBackward0>)\n",
      "5\n",
      "tensor(188.8028, grad_fn=<AddBackward0>)\n",
      "6\n",
      "tensor(179.1770, grad_fn=<AddBackward0>)\n",
      "7\n",
      "tensor(172.3307, grad_fn=<AddBackward0>)\n",
      "8\n",
      "tensor(164.4504, grad_fn=<AddBackward0>)\n",
      "9\n",
      "tensor(158.9123, grad_fn=<AddBackward0>)\n",
      "10\n",
      "tensor(150.8862, grad_fn=<AddBackward0>)\n",
      "11\n",
      "tensor(143.4997, grad_fn=<AddBackward0>)\n",
      "12\n",
      "tensor(137.4288, grad_fn=<AddBackward0>)\n",
      "13\n",
      "tensor(130.8406, grad_fn=<AddBackward0>)\n",
      "14\n",
      "tensor(124.9614, grad_fn=<AddBackward0>)\n",
      "15\n",
      "tensor(121.3788, grad_fn=<AddBackward0>)\n",
      "16\n",
      "tensor(117.3499, grad_fn=<AddBackward0>)\n",
      "17\n",
      "tensor(114.5565, grad_fn=<AddBackward0>)\n",
      "18\n",
      "tensor(109.8407, grad_fn=<AddBackward0>)\n",
      "19\n",
      "tensor(107.4858, grad_fn=<AddBackward0>)\n",
      "20\n",
      "tensor(105.6412, grad_fn=<AddBackward0>)\n",
      "21\n",
      "tensor(102.5604, grad_fn=<AddBackward0>)\n",
      "22\n",
      "tensor(100.1345, grad_fn=<AddBackward0>)\n",
      "23\n",
      "tensor(98.9493, grad_fn=<AddBackward0>)\n",
      "24\n",
      "tensor(97.3335, grad_fn=<AddBackward0>)\n",
      "25\n",
      "tensor(95.2315, grad_fn=<AddBackward0>)\n",
      "26\n",
      "tensor(94.5700, grad_fn=<AddBackward0>)\n",
      "27\n",
      "tensor(92.0939, grad_fn=<AddBackward0>)\n",
      "28\n",
      "tensor(91.3861, grad_fn=<AddBackward0>)\n",
      "29\n",
      "tensor(89.7538, grad_fn=<AddBackward0>)\n",
      "30\n",
      "tensor(88.1808, grad_fn=<AddBackward0>)\n",
      "31\n",
      "tensor(86.5512, grad_fn=<AddBackward0>)\n",
      "32\n",
      "tensor(85.1464, grad_fn=<AddBackward0>)\n",
      "33\n",
      "tensor(83.7446, grad_fn=<AddBackward0>)\n",
      "34\n",
      "tensor(82.0838, grad_fn=<AddBackward0>)\n",
      "35\n",
      "tensor(81.9938, grad_fn=<AddBackward0>)\n",
      "36\n",
      "tensor(80.5932, grad_fn=<AddBackward0>)\n",
      "37\n",
      "tensor(79.4931, grad_fn=<AddBackward0>)\n",
      "38\n",
      "tensor(76.6614, grad_fn=<AddBackward0>)\n",
      "39\n",
      "tensor(78.5600, grad_fn=<AddBackward0>)\n",
      "40\n",
      "tensor(76.2622, grad_fn=<AddBackward0>)\n",
      "41\n",
      "tensor(74.3091, grad_fn=<AddBackward0>)\n",
      "42\n",
      "tensor(72.5221, grad_fn=<AddBackward0>)\n",
      "43\n",
      "tensor(73.1249, grad_fn=<AddBackward0>)\n",
      "44\n",
      "tensor(71.2559, grad_fn=<AddBackward0>)\n",
      "45\n",
      "tensor(70.0760, grad_fn=<AddBackward0>)\n",
      "46\n",
      "tensor(68.6178, grad_fn=<AddBackward0>)\n",
      "47\n",
      "tensor(69.6738, grad_fn=<AddBackward0>)\n",
      "48\n",
      "tensor(67.0898, grad_fn=<AddBackward0>)\n",
      "49\n",
      "tensor(66.7165, grad_fn=<AddBackward0>)\n",
      "50\n",
      "tensor(64.8304, grad_fn=<AddBackward0>)\n",
      "51\n",
      "tensor(64.2708, grad_fn=<AddBackward0>)\n",
      "52\n",
      "tensor(63.4451, grad_fn=<AddBackward0>)\n",
      "53\n",
      "tensor(62.1894, grad_fn=<AddBackward0>)\n",
      "54\n",
      "tensor(61.4486, grad_fn=<AddBackward0>)\n",
      "55\n",
      "tensor(59.4238, grad_fn=<AddBackward0>)\n",
      "56\n",
      "tensor(59.1578, grad_fn=<AddBackward0>)\n",
      "57\n",
      "tensor(57.5930, grad_fn=<AddBackward0>)\n",
      "58\n",
      "tensor(58.3505, grad_fn=<AddBackward0>)\n",
      "59\n",
      "tensor(56.9961, grad_fn=<AddBackward0>)\n",
      "60\n",
      "tensor(55.3418, grad_fn=<AddBackward0>)\n",
      "61\n",
      "tensor(55.4074, grad_fn=<AddBackward0>)\n",
      "62\n",
      "tensor(53.8378, grad_fn=<AddBackward0>)\n",
      "63\n",
      "tensor(50.9957, grad_fn=<AddBackward0>)\n",
      "64\n",
      "tensor(51.8924, grad_fn=<AddBackward0>)\n",
      "65\n",
      "tensor(50.4536, grad_fn=<AddBackward0>)\n",
      "66\n",
      "tensor(49.6649, grad_fn=<AddBackward0>)\n",
      "67\n",
      "tensor(49.3172, grad_fn=<AddBackward0>)\n",
      "68\n",
      "tensor(46.1808, grad_fn=<AddBackward0>)\n",
      "69\n",
      "tensor(46.6074, grad_fn=<AddBackward0>)\n",
      "70\n",
      "tensor(46.3100, grad_fn=<AddBackward0>)\n",
      "71\n",
      "tensor(45.2576, grad_fn=<AddBackward0>)\n",
      "72\n",
      "tensor(46.3076, grad_fn=<AddBackward0>)\n",
      "73\n",
      "tensor(43.0509, grad_fn=<AddBackward0>)\n",
      "74\n",
      "tensor(42.8440, grad_fn=<AddBackward0>)\n",
      "75\n",
      "tensor(42.5003, grad_fn=<AddBackward0>)\n",
      "76\n",
      "tensor(40.2097, grad_fn=<AddBackward0>)\n",
      "77\n",
      "tensor(40.3461, grad_fn=<AddBackward0>)\n",
      "78\n",
      "tensor(39.3429, grad_fn=<AddBackward0>)\n",
      "79\n",
      "tensor(38.6003, grad_fn=<AddBackward0>)\n",
      "80\n",
      "tensor(39.3354, grad_fn=<AddBackward0>)\n",
      "81\n",
      "tensor(36.4880, grad_fn=<AddBackward0>)\n",
      "82\n",
      "tensor(37.9768, grad_fn=<AddBackward0>)\n",
      "83\n",
      "tensor(36.3301, grad_fn=<AddBackward0>)\n",
      "84\n",
      "tensor(35.3706, grad_fn=<AddBackward0>)\n",
      "85\n",
      "tensor(34.9221, grad_fn=<AddBackward0>)\n",
      "86\n",
      "tensor(34.4732, grad_fn=<AddBackward0>)\n",
      "87\n",
      "tensor(33.8927, grad_fn=<AddBackward0>)\n",
      "88\n",
      "tensor(34.7455, grad_fn=<AddBackward0>)\n",
      "89\n",
      "tensor(32.5373, grad_fn=<AddBackward0>)\n",
      "90\n",
      "tensor(32.9417, grad_fn=<AddBackward0>)\n",
      "91\n",
      "tensor(30.3778, grad_fn=<AddBackward0>)\n",
      "92\n",
      "tensor(31.4651, grad_fn=<AddBackward0>)\n",
      "93\n",
      "tensor(31.5612, grad_fn=<AddBackward0>)\n",
      "94\n",
      "tensor(30.5606, grad_fn=<AddBackward0>)\n",
      "95\n",
      "tensor(30.5200, grad_fn=<AddBackward0>)\n",
      "96\n",
      "tensor(29.2171, grad_fn=<AddBackward0>)\n",
      "97\n",
      "tensor(28.8880, grad_fn=<AddBackward0>)\n",
      "98\n",
      "tensor(27.9033, grad_fn=<AddBackward0>)\n",
      "99\n",
      "tensor(27.6360, grad_fn=<AddBackward0>)\n",
      "100\n",
      "tensor(30.0694, grad_fn=<AddBackward0>)\n",
      "101\n",
      "tensor(28.9669, grad_fn=<AddBackward0>)\n",
      "102\n",
      "tensor(27.4491, grad_fn=<AddBackward0>)\n",
      "103\n",
      "tensor(26.6782, grad_fn=<AddBackward0>)\n",
      "104\n",
      "tensor(25.7390, grad_fn=<AddBackward0>)\n",
      "105\n",
      "tensor(25.8494, grad_fn=<AddBackward0>)\n",
      "106\n",
      "tensor(26.8041, grad_fn=<AddBackward0>)\n",
      "107\n",
      "tensor(24.7390, grad_fn=<AddBackward0>)\n",
      "108\n",
      "tensor(25.3960, grad_fn=<AddBackward0>)\n",
      "109\n",
      "tensor(24.6500, grad_fn=<AddBackward0>)\n",
      "110\n",
      "tensor(25.6082, grad_fn=<AddBackward0>)\n",
      "111\n",
      "tensor(23.5349, grad_fn=<AddBackward0>)\n",
      "112\n",
      "tensor(24.9559, grad_fn=<AddBackward0>)\n",
      "113\n",
      "tensor(22.4073, grad_fn=<AddBackward0>)\n",
      "114\n",
      "tensor(23.5191, grad_fn=<AddBackward0>)\n",
      "115\n",
      "tensor(21.3849, grad_fn=<AddBackward0>)\n",
      "116\n",
      "tensor(22.4072, grad_fn=<AddBackward0>)\n",
      "117\n",
      "tensor(21.2102, grad_fn=<AddBackward0>)\n",
      "118\n",
      "tensor(22.1583, grad_fn=<AddBackward0>)\n",
      "119\n",
      "tensor(20.1807, grad_fn=<AddBackward0>)\n",
      "120\n",
      "tensor(22.3866, grad_fn=<AddBackward0>)\n",
      "121\n",
      "tensor(20.8451, grad_fn=<AddBackward0>)\n",
      "122\n",
      "tensor(20.2738, grad_fn=<AddBackward0>)\n",
      "123\n",
      "tensor(19.6483, grad_fn=<AddBackward0>)\n",
      "124\n",
      "tensor(21.4214, grad_fn=<AddBackward0>)\n",
      "125\n",
      "tensor(19.9697, grad_fn=<AddBackward0>)\n",
      "126\n",
      "tensor(21.6554, grad_fn=<AddBackward0>)\n",
      "127\n",
      "tensor(19.2714, grad_fn=<AddBackward0>)\n",
      "128\n",
      "tensor(18.8321, grad_fn=<AddBackward0>)\n",
      "129\n",
      "tensor(18.5477, grad_fn=<AddBackward0>)\n",
      "130\n",
      "tensor(17.0631, grad_fn=<AddBackward0>)\n",
      "131\n",
      "tensor(20.1005, grad_fn=<AddBackward0>)\n",
      "132\n",
      "tensor(17.6592, grad_fn=<AddBackward0>)\n",
      "133\n",
      "tensor(17.5912, grad_fn=<AddBackward0>)\n",
      "134\n",
      "tensor(18.0376, grad_fn=<AddBackward0>)\n",
      "135\n",
      "tensor(16.8592, grad_fn=<AddBackward0>)\n",
      "136\n",
      "tensor(16.5953, grad_fn=<AddBackward0>)\n",
      "137\n",
      "tensor(17.2954, grad_fn=<AddBackward0>)\n",
      "138\n",
      "tensor(16.2091, grad_fn=<AddBackward0>)\n",
      "139\n",
      "tensor(18.6105, grad_fn=<AddBackward0>)\n",
      "140\n",
      "tensor(16.7754, grad_fn=<AddBackward0>)\n",
      "141\n",
      "tensor(15.9379, grad_fn=<AddBackward0>)\n",
      "142\n",
      "tensor(14.6281, grad_fn=<AddBackward0>)\n",
      "143\n",
      "tensor(16.1547, grad_fn=<AddBackward0>)\n",
      "144\n",
      "tensor(18.9125, grad_fn=<AddBackward0>)\n",
      "145\n",
      "tensor(14.1664, grad_fn=<AddBackward0>)\n",
      "146\n",
      "tensor(14.6326, grad_fn=<AddBackward0>)\n",
      "147\n",
      "tensor(15.0220, grad_fn=<AddBackward0>)\n",
      "148\n",
      "tensor(16.8513, grad_fn=<AddBackward0>)\n",
      "149\n",
      "tensor(15.2302, grad_fn=<AddBackward0>)\n",
      "150\n",
      "tensor(14.4188, grad_fn=<AddBackward0>)\n",
      "151\n",
      "tensor(13.0501, grad_fn=<AddBackward0>)\n",
      "152\n",
      "tensor(16.9054, grad_fn=<AddBackward0>)\n",
      "153\n",
      "tensor(13.5350, grad_fn=<AddBackward0>)\n",
      "154\n",
      "tensor(13.2921, grad_fn=<AddBackward0>)\n",
      "155\n",
      "tensor(12.5163, grad_fn=<AddBackward0>)\n",
      "156\n",
      "tensor(13.5272, grad_fn=<AddBackward0>)\n",
      "157\n",
      "tensor(12.5202, grad_fn=<AddBackward0>)\n",
      "158\n",
      "tensor(11.3212, grad_fn=<AddBackward0>)\n",
      "159\n",
      "tensor(14.7809, grad_fn=<AddBackward0>)\n",
      "160\n",
      "tensor(11.8416, grad_fn=<AddBackward0>)\n",
      "161\n",
      "tensor(14.5886, grad_fn=<AddBackward0>)\n",
      "162\n",
      "tensor(11.0764, grad_fn=<AddBackward0>)\n",
      "163\n",
      "tensor(10.9082, grad_fn=<AddBackward0>)\n",
      "164\n",
      "tensor(12.8327, grad_fn=<AddBackward0>)\n",
      "165\n",
      "tensor(11.2494, grad_fn=<AddBackward0>)\n",
      "166\n",
      "tensor(11.0538, grad_fn=<AddBackward0>)\n",
      "167\n",
      "tensor(13.9730, grad_fn=<AddBackward0>)\n",
      "168\n",
      "tensor(10.4065, grad_fn=<AddBackward0>)\n",
      "169\n",
      "tensor(10.6393, grad_fn=<AddBackward0>)\n",
      "170\n",
      "tensor(12.0861, grad_fn=<AddBackward0>)\n",
      "171\n",
      "tensor(10.6932, grad_fn=<AddBackward0>)\n",
      "172\n",
      "tensor(12.1434, grad_fn=<AddBackward0>)\n",
      "173\n",
      "tensor(11.4826, grad_fn=<AddBackward0>)\n",
      "174\n",
      "tensor(9.5219, grad_fn=<AddBackward0>)\n",
      "175\n",
      "tensor(10.5579, grad_fn=<AddBackward0>)\n",
      "176\n",
      "tensor(13.2501, grad_fn=<AddBackward0>)\n",
      "177\n",
      "tensor(9.7762, grad_fn=<AddBackward0>)\n",
      "178\n",
      "tensor(9.9433, grad_fn=<AddBackward0>)\n",
      "179\n",
      "tensor(8.9225, grad_fn=<AddBackward0>)\n",
      "180\n",
      "tensor(7.8819, grad_fn=<AddBackward0>)\n",
      "181\n",
      "tensor(10.6424, grad_fn=<AddBackward0>)\n",
      "182\n",
      "tensor(13.5575, grad_fn=<AddBackward0>)\n",
      "183\n",
      "tensor(7.9355, grad_fn=<AddBackward0>)\n",
      "184\n",
      "tensor(8.0151, grad_fn=<AddBackward0>)\n",
      "185\n",
      "tensor(8.7706, grad_fn=<AddBackward0>)\n",
      "186\n",
      "tensor(6.9157, grad_fn=<AddBackward0>)\n",
      "187\n",
      "tensor(10.3567, grad_fn=<AddBackward0>)\n",
      "188\n",
      "tensor(11.8707, grad_fn=<AddBackward0>)\n",
      "189\n",
      "tensor(7.7972, grad_fn=<AddBackward0>)\n",
      "190\n",
      "tensor(6.2211, grad_fn=<AddBackward0>)\n",
      "191\n",
      "tensor(8.0095, grad_fn=<AddBackward0>)\n",
      "192\n",
      "tensor(11.6826, grad_fn=<AddBackward0>)\n",
      "193\n",
      "tensor(8.9821, grad_fn=<AddBackward0>)\n",
      "194\n",
      "tensor(6.1923, grad_fn=<AddBackward0>)\n",
      "195\n",
      "tensor(6.7762, grad_fn=<AddBackward0>)\n",
      "196\n",
      "tensor(11.6981, grad_fn=<AddBackward0>)\n",
      "197\n",
      "tensor(6.3583, grad_fn=<AddBackward0>)\n",
      "198\n",
      "tensor(5.7652, grad_fn=<AddBackward0>)\n",
      "199\n",
      "tensor(8.8567, grad_fn=<AddBackward0>)\n",
      "Test accuracy: 0.9525\n",
      "Train accuracy: 0.9992857142857143\n"
     ]
    }
   ],
   "source": [
    "import data\n",
    "import torch\n",
    "from torch.nn import Module, Linear, ReLU, LogSoftmax, CrossEntropyLoss, Softmax\n",
    "from torch.optim import SGD, Adam\n",
    "import numpy as np\n",
    "import matplotlib.pyplot as plt\n",
    "from sklearn import metrics\n",
    "\n",
    "\n",
    "class MLP(Module):\n",
    "    \"\"\"\n",
    "    Neural Network Classifier\n",
    "    \"\"\"\n",
    "\n",
    "    def __init__(self, input_dim, hidden_dim1, hidden_dim2, output_dim):\n",
    "        super(MLP, self).__init__()\n",
    "        self.input_dim = input_dim\n",
    "        self.output_dim = output_dim\n",
    "\n",
    "        self.hidden_dim1 = hidden_dim1\n",
    "        self.hidden_dim2 = hidden_dim2\n",
    "\n",
    "        self.fc1 = Linear(self.input_dim, self.hidden_dim1)\n",
    "        self.fc2 = Linear(self.hidden_dim1, self.hidden_dim2)\n",
    "        self.output = Linear(self.hidden_dim2, output_dim)\n",
    "        self.relu = ReLU()\n",
    "        self.softmax = Softmax()\n",
    "    \n",
    "    def forward(self, x):\n",
    "        out = self.fc1(x)\n",
    "        out = self.relu(out)\n",
    "        out = self.fc2(out)\n",
    "        out = self.relu(out)\n",
    "        out = self.output(out)\n",
    "        return out\n",
    "\n",
    "    def predict(self, x):\n",
    "        x = torch.FloatTensor(x)\n",
    "        out = self.forward(x).detach().numpy()\n",
    "        out = np.where(out == np.max(out), 1, 0)\n",
    "        return out \n",
    "\n",
    "def test(net, X_train, y_train, X_test, y_test):\n",
    "\n",
    "    test_out = np.argmax(net(torch.FloatTensor(X_test)).detach().numpy(), 1)\n",
    "    train_out = np.argmax(net(torch.FloatTensor(X_train)).detach().numpy(), 1)\n",
    "\n",
    "    test_accuracy = np.sum(np.where(test_out == y_test, 1, 0))/y_test.shape[0]\n",
    "    train_accuracy = np.sum(np.where(train_out == y_train, 1, 0))/y_train.shape[0]\n",
    "\n",
    "    acc1 = metrics.accuracy_score(y_pred=test_out, y_true=y_test)\n",
    "    acc2 = metrics.accuracy_score(y_pred=train_out, y_true=y_train)\n",
    "\n",
    "    print('Test accuracy: ' + str(acc1))\n",
    "    print('Train accuracy: ' + str(acc2))\n",
    "\n",
    "def train(net, X_train, y_train, X_test, y_test, batch_size=10, epochs=200, lr=0.001):\n",
    "\n",
    "    X_train = torch.FloatTensor(X_train)\n",
    "    y_train = torch.LongTensor(y_train)\n",
    "\n",
    "    criterion = CrossEntropyLoss()\n",
    "    optimizer = Adam(net.parameters(), lr=lr, weight_decay=5e-8)\n",
    "\n",
    "    for i in range(epochs):\n",
    "\n",
    "        print(i)\n",
    "\n",
    "        batch_loss = 0\n",
    "        randShuffle = torch.randperm(X_train.size()[0])\n",
    "        X_train_shuff = X_train[randShuffle]\n",
    "        y_train_shuff = y_train[randShuffle]        \n",
    "\n",
    "        for j in range(0, X_train.size()[0], batch_size):\n",
    "\n",
    "            X_batch = X_train_shuff[j:j+batch_size]\n",
    "            y_batch = y_train_shuff[j:j+batch_size]\n",
    "\n",
    "            optimizer.zero_grad()\n",
    "\n",
    "            out = net(X_batch)\n",
    "\n",
    "            loss = criterion(out.squeeze(), y_batch)   \n",
    "\n",
    "            batch_loss += loss   \n",
    "            \n",
    "            loss.backward()\n",
    "            optimizer.step()\n",
    "\n",
    "        print(batch_loss)\n",
    "\n",
    "    return net\n",
    "\n",
    "def main():\n",
    "\n",
    "    train_data, train_labels, test_data, test_labels = data.load_all_data('data')\n",
    "\n",
    "    num_classes = 10\n",
    "    net = MLP(64, 16, 16, num_classes)\n",
    "    model = train(net, X_train=train_data, y_train=train_labels, X_test=test_data, y_test=test_labels)\n",
    "\n",
    "    test(model, train_data, train_labels, test_data, test_labels)\n",
    "\n",
    "    return net \n",
    "\n",
    "if __name__ == '__main__':\n",
    "    net = main()\n"
   ]
  },
  {
   "cell_type": "code",
   "execution_count": 27,
   "metadata": {},
   "outputs": [],
   "source": [
    "train_data, train_labels, test_data, test_labels = data.load_all_data('data')\n"
   ]
  },
  {
   "cell_type": "code",
   "execution_count": 28,
   "metadata": {},
   "outputs": [
    {
     "data": {
      "text/plain": [
       "tensor([0.0000, 0.0000, 0.0000, 0.0000, 0.0000, 0.0200, 0.8500, 0.5400, 0.0000,\n",
       "        0.0000, 0.0000, 0.0000, 0.0000, 0.6200, 0.9900, 0.3800, 0.0000, 0.0000,\n",
       "        0.0000, 0.0000, 0.2200, 0.9500, 0.5700, 0.0000, 0.0000, 0.0000, 0.0000,\n",
       "        0.3500, 0.9400, 0.4500, 0.0100, 0.0000, 0.0000, 0.0000, 0.4400, 0.9400,\n",
       "        0.3200, 0.0000, 0.0000, 0.0000, 0.0000, 0.5400, 0.8900, 0.1800, 0.0000,\n",
       "        0.0000, 0.0000, 0.0000, 0.4400, 0.9600, 0.2100, 0.0000, 0.0000, 0.0000,\n",
       "        0.0000, 0.0000, 0.4200, 0.8000, 0.3600, 0.0300, 0.0000, 0.0000, 0.0000,\n",
       "        0.0000])"
      ]
     },
     "execution_count": 28,
     "metadata": {},
     "output_type": "execute_result"
    }
   ],
   "source": [
    "torch.FloatTensor(test_data[0])"
   ]
  },
  {
   "cell_type": "code",
   "execution_count": 29,
   "metadata": {},
   "outputs": [
    {
     "data": {
      "text/plain": [
       "array([0, 1, 0, 0, 0, 0, 0, 0, 0, 0])"
      ]
     },
     "execution_count": 29,
     "metadata": {},
     "output_type": "execute_result"
    }
   ],
   "source": [
    "net.predict(torch.FloatTensor(test_data[0]))"
   ]
  },
  {
   "cell_type": "code",
   "execution_count": 30,
   "metadata": {},
   "outputs": [
    {
     "data": {
      "text/plain": [
       "1.0"
      ]
     },
     "execution_count": 30,
     "metadata": {},
     "output_type": "execute_result"
    }
   ],
   "source": [
    "test_labels[0]"
   ]
  },
  {
   "cell_type": "code",
   "execution_count": 6,
   "metadata": {},
   "outputs": [],
   "source": [
    "from collections import Counter\n",
    "import numpy as np"
   ]
  },
  {
   "cell_type": "code",
   "execution_count": 17,
   "metadata": {},
   "outputs": [
    {
     "data": {
      "text/plain": [
       "(dict_values([2, 2, 2, 1]), dict_keys([3, 1, 2, 4]))"
      ]
     },
     "execution_count": 17,
     "metadata": {},
     "output_type": "execute_result"
    }
   ],
   "source": [
    "Counter([3, 1, 3, 1, 2, 2, 4]).values(), Counter([3, 1, 3, 1, 2, 2, 4]).keys()"
   ]
  },
  {
   "cell_type": "code",
   "execution_count": 26,
   "metadata": {},
   "outputs": [],
   "source": [
    "votes = None\n",
    "maxDig = 11\n",
    "for element, digit in zip(list(Counter([3, 7, 3, 7, 2, 2, 4, 6, 6]).values()), list(Counter([3, 7, 3, 7, 2, 2, 4, 6, 6]).keys())):\n",
    "    if element == max(list(Counter([3, 1, 3, 1, 2, 2, 4]).values())) and digit < maxDig:\n",
    "        votes = element \n",
    "        maxDig = digit "
   ]
  },
  {
   "cell_type": "code",
   "execution_count": 27,
   "metadata": {},
   "outputs": [
    {
     "data": {
      "text/plain": [
       "2"
      ]
     },
     "execution_count": 27,
     "metadata": {},
     "output_type": "execute_result"
    }
   ],
   "source": [
    "maxDig"
   ]
  },
  {
   "cell_type": "code",
   "execution_count": 9,
   "metadata": {},
   "outputs": [
    {
     "data": {
      "text/plain": [
       "1"
      ]
     },
     "execution_count": 9,
     "metadata": {},
     "output_type": "execute_result"
    }
   ],
   "source": [
    "np.argmax(np.bincount([3, 1, 3, 1,  2, 2]))"
   ]
  },
  {
   "cell_type": "code",
   "execution_count": 10,
   "metadata": {},
   "outputs": [
    {
     "data": {
      "text/plain": [
       "array([0, 2, 2, 2], dtype=int64)"
      ]
     },
     "execution_count": 10,
     "metadata": {},
     "output_type": "execute_result"
    }
   ],
   "source": [
    "np.bincount([3, 1, 3, 1,  2, 2])"
   ]
  },
  {
   "cell_type": "code",
   "execution_count": 45,
   "metadata": {},
   "outputs": [
    {
     "data": {
      "text/plain": [
       "array([3, 2, 1, 0], dtype=int64)"
      ]
     },
     "execution_count": 45,
     "metadata": {},
     "output_type": "execute_result"
    }
   ],
   "source": [
    "np.argsort([5, 4, 3, 1])"
   ]
  },
  {
   "cell_type": "code",
   "execution_count": 3,
   "metadata": {},
   "outputs": [
    {
     "name": "stdout",
     "output_type": "stream",
     "text": [
      "0\n",
      "2\n",
      "4\n",
      "6\n"
     ]
    }
   ],
   "source": [
    "for j in range(0, 7, 2):\n",
    "    print(j)"
   ]
  },
  {
   "cell_type": "code",
   "execution_count": 4,
   "metadata": {},
   "outputs": [
    {
     "name": "stderr",
     "output_type": "stream",
     "text": [
      "c:\\Users\\altaf\\AppData\\Local\\Programs\\Python\\Python39\\lib\\site-packages\\tqdm\\auto.py:22: TqdmWarning: IProgress not found. Please update jupyter and ipywidgets. See https://ipywidgets.readthedocs.io/en/stable/user_install.html\n",
      "  from .autonotebook import tqdm as notebook_tqdm\n"
     ]
    }
   ],
   "source": [
    "import torch"
   ]
  },
  {
   "cell_type": "code",
   "execution_count": 5,
   "metadata": {},
   "outputs": [
    {
     "data": {
      "text/plain": [
       "tensor([5, 0, 2, 6, 1, 9, 4, 8, 7, 3])"
      ]
     },
     "execution_count": 5,
     "metadata": {},
     "output_type": "execute_result"
    }
   ],
   "source": [
    "torch.randperm(10)[:10]"
   ]
  },
  {
   "cell_type": "code",
   "execution_count": null,
   "metadata": {},
   "outputs": [],
   "source": []
  }
 ],
 "metadata": {
  "kernelspec": {
   "display_name": "Python 3.10.8 64-bit (microsoft store)",
   "language": "python",
   "name": "python3"
  },
  "language_info": {
   "codemirror_mode": {
    "name": "ipython",
    "version": 3
   },
   "file_extension": ".py",
   "mimetype": "text/x-python",
   "name": "python",
   "nbconvert_exporter": "python",
   "pygments_lexer": "ipython3",
   "version": "3.10.8"
  },
  "orig_nbformat": 4,
  "vscode": {
   "interpreter": {
    "hash": "4a2c5e64702faac4ad8df66187f8c96a3cae360e1818b4e22e87b9f080de1cb8"
   }
  }
 },
 "nbformat": 4,
 "nbformat_minor": 2
}
